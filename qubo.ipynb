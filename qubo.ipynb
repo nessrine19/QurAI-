{
 "cells": [
  {
   "cell_type": "code",
   "execution_count": 1,
   "id": "8011d805",
   "metadata": {},
   "outputs": [],
   "source": [
    "import random"
   ]
  },
  {
   "cell_type": "code",
   "execution_count": 42,
   "id": "db944492",
   "metadata": {},
   "outputs": [],
   "source": [
    "from qibo import hamiltonians\n",
    "from qibo.symbols import Z\n",
    "import numpy as np\n",
    "\n",
    "def TCP(dose, D50=40, a=0.2):\n",
    "    return 1 / (1 + np.exp(-a * (dose - D50)))\n",
    "\n",
    "def NTCP(dose, dose_rate, D_crit=40, R_crit=40, epsilon=0.5):\n",
    "    flash_correction = 1 + epsilon * (R_crit / dose_rate)\n",
    "    return (dose / D_crit) * flash_correction\n",
    "\n",
    "def build_cost_hamiltonian(doses, dose_rates, depths,\n",
    "                            alpha=1.0, beta=10.0, \n",
    "                            gamma=1000.0,\n",
    "                            lambda_depth=0.3,\n",
    "                            session_cost_flash=20.0,\n",
    "                            flash_threshold=40,\n",
    "                            depth_limit=12,\n",
    "                            flash_incompatibility_penalty=5000,\n",
    "                            ntcp_gain_threshold=0.1,    # <-- new: minimum gain needed to justify FLASH\n",
    "                            artificial_nonflash_rate=1):  # <-- new: to simulate non-FLASH NTCP\n",
    "    \"\"\"\n",
    "    Build the full cost Hamiltonian with smart FLASH decision logic.\n",
    "    \"\"\"\n",
    "    n = len(doses)\n",
    "    cost = 0\n",
    "    \n",
    "    for i in range(n):\n",
    "\n",
    "        dose_i = doses[i]\n",
    "        rate_i = dose_rates[i]\n",
    "        depth_i = depths[i]\n",
    "\n",
    "        tcp = TCP(dose_i)\n",
    "        # ntcp_flash = NTCP(dose_i, rate_i)\n",
    "        # ntcp_nonflash = NTCP(dose_i, artificial_nonflash_rate)\n",
    "\n",
    "        # ntcp_gain = ntcp_nonflash - ntcp_flash\n",
    "        # print(ntcp_gain)\n",
    "\n",
    "        # cost += lambda_depth * depth_i * (1 - Z(i))\n",
    "\n",
    "        # Always: reward TCP and penalize NTCP (depending on FLASH or non-FLASH)\n",
    "        if rate_i > flash_threshold:\n",
    "            ntcp_flash = NTCP(dose_i, rate_i)\n",
    "            ntcp_nonflash = NTCP(dose_i, artificial_nonflash_rate)\n",
    "\n",
    "            ntcp_gain = ntcp_nonflash - ntcp_flash\n",
    "            print(ntcp_gain)\n",
    "            print(i)\n",
    "            if ntcp_gain >= 0.1:\n",
    "                # FLASH is justified: use FLASH NTCP and pay session cost\n",
    "                # cost += (-alpha * tcp + beta * ntcp_flash) * (1 - Z(i))\n",
    "                cost += session_cost_flash\n",
    "            else:\n",
    "                # FLASH NOT justified: add big penalty\n",
    "                cost += flash_incompatibility_penalty\n",
    "        else:\n",
    "            # Conventional beam: use non-FLASH NTCP\n",
    "            # cost += (-alpha * tcp + beta * ntcp_nonflash) * (1 - Z(i))\n",
    "            cost += flash_incompatibility_penalty\n",
    "            \n",
    "            # Single beam constraint\n",
    "        constraint = 0\n",
    "        for i in range(n):\n",
    "            constraint += -(1 - Z(i))\n",
    "        for i in range(n):\n",
    "            for j in range(i+1, n):\n",
    "                constraint += 2 * (1 - Z(i)) * (1 - Z(j))\n",
    "        constraint += 1  # Constant\n",
    "\n",
    "        cost += gamma * constraint\n",
    "\n",
    "    return hamiltonians.SymbolicHamiltonian(cost)\n",
    "\n"
   ]
  },
  {
   "cell_type": "code",
   "execution_count": 47,
   "id": "cd75fd0d",
   "metadata": {},
   "outputs": [],
   "source": [
    "doses = [50, 20, 25, 30, 35]          # Gy\n",
    "dose_rates = [40,40,40,40,40]    # Gy/s (only beams 1, 2, 3 are FLASH!)\n",
    "depths = [4, 3, 5, 1, 13]              # cm (all shallow <12 cm)\n",
    "\n",
    "\n",
    "cost_hamiltonian = build_cost_hamiltonian(doses, dose_rates, depths)"
   ]
  },
  {
   "cell_type": "code",
   "execution_count": 48,
   "id": "2145e54d",
   "metadata": {},
   "outputs": [
    {
     "name": "stderr",
     "output_type": "stream",
     "text": [
      "[Qibo 0.2.18|INFO|2025-04-26 20:48:19]: Using numpy backend on /CPU:0\n",
      "[Qibo 0.2.18|WARNING|2025-04-26 20:48:19]: Calculating the dense form of a symbolic Hamiltonian. This operation is memory inefficient.\n"
     ]
    },
    {
     "name": "stdout",
     "output_type": "stream",
     "text": [
      "[(np.complex128(20000+0j), '00001'), (np.complex128(20000+0j), '00010'), (np.complex128(20000+0j), '00100'), (np.complex128(20000+0j), '01000'), (np.complex128(20000+0j), '10000'), (np.complex128(30000+0j), '00000'), (np.complex128(50000+0j), '00011'), (np.complex128(50000+0j), '00101'), (np.complex128(50000+0j), '00110'), (np.complex128(50000+0j), '01001'), (np.complex128(50000+0j), '01010'), (np.complex128(50000+0j), '01100'), (np.complex128(50000+0j), '10001'), (np.complex128(50000+0j), '10010'), (np.complex128(50000+0j), '10100'), (np.complex128(50000+0j), '11000'), (np.complex128(120000+0j), '00111'), (np.complex128(120000+0j), '01011'), (np.complex128(120000+0j), '01101'), (np.complex128(120000+0j), '01110'), (np.complex128(120000+0j), '10011'), (np.complex128(120000+0j), '10101'), (np.complex128(120000+0j), '10110'), (np.complex128(120000+0j), '11001'), (np.complex128(120000+0j), '11010'), (np.complex128(120000+0j), '11100'), (np.complex128(230000+0j), '01111'), (np.complex128(230000+0j), '10111'), (np.complex128(230000+0j), '11011'), (np.complex128(230000+0j), '11101'), (np.complex128(230000+0j), '11110'), (np.complex128(380000+0j), '11111')]\n",
      "Optimal solution:  00001\n"
     ]
    }
   ],
   "source": [
    "import numpy as np\n",
    "from qibo import set_backend\n",
    "\n",
    "# set the backend used for the calculation \n",
    "set_backend(\"numpy\", platform=None)\n",
    "\n",
    "\n",
    "# # create the cost Hamiltonian for the given graph\n",
    "# cost_hamiltonian = build_cost_hamiltonian(initial_params, doses, tcp_params, ntcp_params, penalty_terms)\n",
    "\n",
    "ham_matrix = cost_hamiltonian.matrix\n",
    "\n",
    "eig_val, eig_vec = np.linalg.eig(ham_matrix)\n",
    "eig_vec = [\"{0:0{bits}b}\".format(i.argmax(), bits=len(doses)) for i in eig_vec]\n",
    "\n",
    "vec = zip(eig_val, eig_vec)\n",
    "diagonalized_solution = sorted(vec, key=lambda x: x[0])\n",
    "\n",
    "print(diagonalized_solution)\n",
    "print(\"Optimal solution: \", diagonalized_solution[0][1])"
   ]
  },
  {
   "cell_type": "code",
   "execution_count": 5,
   "id": "8dcaf16d",
   "metadata": {},
   "outputs": [],
   "source": [
    "from qibo.symbols import Z, X, Y\n",
    "from qibo.hamiltonians import SymbolicHamiltonian\n",
    "import numpy as np\n",
    "\n",
    "def build_mixer_hamiltonian(nqubits: int) -> SymbolicHamiltonian:\n",
    "    '''\n",
    "    build the mixer hamiltonian for the given graph.\n",
    "\n",
    "    args:\n",
    "        graph: graph\n",
    "            A network graph\n",
    "\n",
    "    returns:\n",
    "        The mixer hamiltonian of the given graph\n",
    "\n",
    "    '''\n",
    "    # create the mixer Hamiltonian\n",
    "    mixing_hamiltonian = sum((Y(i)) for i in range(nqubits))\n",
    "    return SymbolicHamiltonian(mixing_hamiltonian)"
   ]
  },
  {
   "cell_type": "code",
   "execution_count": 6,
   "id": "1b6065a2",
   "metadata": {},
   "outputs": [
    {
     "name": "stdout",
     "output_type": "stream",
     "text": [
      "[ 0.00063954  0.03084361 -0.00944103  0.01178451 -0.01769863 -0.02248606]\n"
     ]
    },
    {
     "name": "stdout",
     "output_type": "stream",
     "text": [
      "best energy:  256893.79039140145\n"
     ]
    }
   ],
   "source": [
    "from qibo import models\n",
    "\n",
    "hamiltonian = build_cost_hamiltonian(doses, dose_rates, depths)\n",
    "mixer_hamiltonian = build_mixer_hamiltonian(nqubits=len(doses))\n",
    "\n",
    "# create QAOA model given the Hamiltonians\n",
    "qaoa = models.QAOA(hamiltonian=hamiltonian, mixer=mixer_hamiltonian)\n",
    "\n",
    "# optimize using random initial variational parameters with four layers \n",
    "n_layers = 3\n",
    "# initial_parameters = 0.01 * np.random.random(n_layers * 2)\n",
    "initial_parameters =  0.01 *  (2 * np.random.random(n_layers * 2) - 1) * np.pi\n",
    "print(initial_parameters)\n",
    "\n",
    "\"\"\"\n",
    "supported optimization Method: \n",
    "- Nelder-Mead \n",
    "- parallel_L-BFGS-B\n",
    "- Powell\n",
    "- CG\n",
    "- cma\n",
    "- sgd\n",
    "- L-BFGS-B\n",
    "- Newton-CG\n",
    "- COBYLA\n",
    "- BFGS\n",
    "- trust-constr\n",
    "\"\"\"\n",
    "method = \"COBYLA\"\n",
    "\n",
    "\n",
    "best_energy, final_parameters, _ = qaoa.minimize(initial_parameters, method=method)\n",
    "\n",
    "print(\"best energy: \", best_energy)"
   ]
  },
  {
   "cell_type": "code",
   "execution_count": 7,
   "id": "1487e0c7",
   "metadata": {},
   "outputs": [
    {
     "name": "stdout",
     "output_type": "stream",
     "text": [
      "[('36.94 %', '11111'), ('10.23 %', '01111'), ('8.21 %', '11101'), ('8.08 %', '11011'), ('7.76 %', '10111'), ('7.18 %', '11110'), ('2.17 %', '01101'), ('2.14 %', '01011'), ('2.05 %', '00111'), ('1.90 %', '01110'), ('1.71 %', '11001'), ('1.64 %', '10101'), ('1.62 %', '10011'), ('1.52 %', '11100'), ('1.49 %', '11010'), ('1.43 %', '10110'), ('0.43 %', '01001'), ('0.41 %', '00101'), ('0.41 %', '00011'), ('0.38 %', '01100'), ('0.38 %', '01010'), ('0.36 %', '00110'), ('0.32 %', '10001'), ('0.30 %', '11000'), ('0.29 %', '10100'), ('0.28 %', '10010'), ('0.08 %', '00001'), ('0.07 %', '01000'), ('0.07 %', '00100'), ('0.07 %', '00010'), ('0.05 %', '10000'), ('0.01 %', '00000')]\n",
      "The best solution is: 11111\n",
      "----------\n",
      "[('15.77 %', '11000'), ('8.46 %', '10000'), ('7.42 %', '00111'), ('6.45 %', '10001'), ('6.22 %', '01000'), ('5.96 %', '10111'), ('5.45 %', '01111'), ('5.32 %', '10011'), ('3.66 %', '10100'), ('3.37 %', '11001'), ('3.24 %', '10010'), ('2.75 %', '01100'), ('2.64 %', '00011'), ('2.64 %', '01011'), ('2.54 %', '00100'), ('2.40 %', '01001'), ('2.22 %', '11111'), ('1.99 %', '00001'), ('1.86 %', '00010'), ('1.55 %', '01010'), ('1.46 %', '10101'), ('1.19 %', '11011'), ('1.01 %', '11110'), ('0.98 %', '00101'), ('0.79 %', '11010'), ('0.63 %', '00000'), ('0.52 %', '01101'), ('0.51 %', '11101'), ('0.42 %', '11100'), ('0.31 %', '10110'), ('0.23 %', '00110'), ('0.03 %', '01110')]\n",
      "The best solution is: 11000\n",
      "----------\n",
      "[('10.19 %', '01000'), ('9.34 %', '01101'), ('6.98 %', '00111'), ('6.48 %', '00000'), ('5.58 %', '01011'), ('4.49 %', '01111'), ('4.33 %', '11110'), ('4.27 %', '11100'), ('4.01 %', '11001'), ('3.86 %', '00011'), ('3.49 %', '01001'), ('3.27 %', '11010'), ('3.17 %', '00110'), ('2.86 %', '10001'), ('2.84 %', '10010'), ('2.80 %', '10011'), ('2.52 %', '11011'), ('2.49 %', '11101'), ('2.40 %', '00010'), ('2.26 %', '01010'), ('2.17 %', '10110'), ('2.04 %', '10111'), ('1.84 %', '10000'), ('1.84 %', '00001'), ('1.14 %', '10100'), ('1.12 %', '11000'), ('0.76 %', '00100'), ('0.63 %', '11111'), ('0.26 %', '01100'), ('0.23 %', '00101'), ('0.16 %', '01110'), ('0.16 %', '10101')]\n",
      "The best solution is: 01000\n",
      "----------\n",
      "[('19.52 %', '11111'), ('16.71 %', '00000'), ('7.44 %', '10000'), ('5.72 %', '01111'), ('3.99 %', '00001'), ('3.63 %', '11110'), ('3.44 %', '01000'), ('3.43 %', '00010'), ('3.40 %', '00100'), ('2.78 %', '01110'), ('2.51 %', '00111'), ('2.51 %', '10111'), ('2.50 %', '01101'), ('2.49 %', '01011'), ('2.26 %', '11011'), ('2.22 %', '11101'), ('1.78 %', '10110'), ('1.77 %', '11100'), ('1.76 %', '11010'), ('1.73 %', '11001'), ('1.72 %', '10101'), ('1.71 %', '10011'), ('1.18 %', '10001'), ('0.84 %', '11000'), ('0.79 %', '10010'), ('0.79 %', '10100'), ('0.33 %', '01001'), ('0.30 %', '00101'), ('0.30 %', '00011'), ('0.17 %', '01100'), ('0.16 %', '01010'), ('0.14 %', '00110')]\n",
      "The best solution is: 11111\n",
      "----------\n",
      "[('11.91 %', '11111'), ('10.07 %', '00000'), ('9.13 %', '11101'), ('9.10 %', '00010'), ('8.90 %', '00110'), ('7.19 %', '11001'), ('4.69 %', '11011'), ('4.48 %', '00100'), ('4.26 %', '00011'), ('4.12 %', '11110'), ('2.81 %', '11100'), ('2.69 %', '00101'), ('2.21 %', '11000'), ('2.11 %', '10010'), ('2.06 %', '01010'), ('1.71 %', '10100'), ('1.62 %', '01100'), ('1.45 %', '10111'), ('1.40 %', '00001'), ('1.28 %', '11010'), ('1.14 %', '10001'), ('1.14 %', '01001'), ('1.14 %', '00111'), ('1.02 %', '01111'), ('0.79 %', '10101'), ('0.47 %', '01101'), ('0.36 %', '01000'), ('0.28 %', '10011'), ('0.22 %', '10000'), ('0.15 %', '01011'), ('0.06 %', '01110'), ('0.02 %', '10110')]\n",
      "The best solution is: 11111\n",
      "----------\n",
      "[('17.41 %', '11001'), ('13.23 %', '10001'), ('11.35 %', '11000'), ('5.29 %', '11100'), ('5.22 %', '10000'), ('4.21 %', '01000'), ('3.94 %', '10101'), ('3.81 %', '01001'), ('3.73 %', '10100'), ('3.70 %', '11011'), ('3.24 %', '11101'), ('2.84 %', '11010'), ('2.74 %', '00001'), ('2.25 %', '10011'), ('1.96 %', '10010'), ('1.81 %', '01011'), ('1.60 %', '01010'), ('1.15 %', '00000'), ('1.08 %', '01100'), ('1.01 %', '00011'), ('1.01 %', '10111'), ('0.99 %', '11111'), ('0.87 %', '01101'), ('0.86 %', '00100'), ('0.84 %', '11110'), ('0.77 %', '01111'), ('0.71 %', '00101'), ('0.66 %', '01110'), ('0.55 %', '00010'), ('0.45 %', '00111'), ('0.42 %', '10110'), ('0.31 %', '00110')]\n",
      "The best solution is: 11001\n",
      "----------\n",
      "[('13.15 %', '11110'), ('11.11 %', '01000'), ('9.73 %', '01111'), ('5.72 %', '10000'), ('5.61 %', '01001'), ('5.17 %', '10111'), ('4.57 %', '01110'), ('4.03 %', '11000'), ('3.97 %', '11001'), ('3.49 %', '00101'), ('3.43 %', '00111'), ('2.71 %', '00110'), ('2.66 %', '11100'), ('2.54 %', '00010'), ('2.51 %', '00001'), ('2.49 %', '10011'), ('2.36 %', '11011'), ('2.08 %', '11111'), ('1.68 %', '11010'), ('1.46 %', '10001'), ('1.34 %', '01010'), ('1.23 %', '00011'), ('1.22 %', '01100'), ('1.17 %', '01101'), ('1.15 %', '10110'), ('1.10 %', '00000'), ('1.05 %', '10010'), ('0.54 %', '00100'), ('0.50 %', '11101'), ('0.11 %', '10100'), ('0.08 %', '10101'), ('0.04 %', '01011')]\n",
      "The best solution is: 11110\n",
      "----------\n",
      "[('15.01 %', '01101'), ('11.59 %', '01011'), ('6.74 %', '00000'), ('6.34 %', '00111'), ('6.21 %', '01111'), ('5.79 %', '11111'), ('5.16 %', '11101'), ('4.83 %', '11011'), ('4.52 %', '01110'), ('3.90 %', '01000'), ('2.69 %', '11001'), ('2.64 %', '10110'), ('2.43 %', '00100'), ('2.31 %', '00010'), ('2.20 %', '10011'), ('2.14 %', '00001'), ('1.91 %', '10101'), ('1.90 %', '10001'), ('1.60 %', '01001'), ('1.45 %', '10111'), ('1.02 %', '00011'), ('1.01 %', '10100'), ('0.85 %', '01010'), ('0.84 %', '01100'), ('0.80 %', '00110'), ('0.75 %', '11110'), ('0.75 %', '00101'), ('0.66 %', '10010'), ('0.65 %', '11100'), ('0.61 %', '11010'), ('0.40 %', '11000'), ('0.29 %', '10000')]\n",
      "The best solution is: 01101\n",
      "----------\n",
      "[('10.68 %', '11111'), ('10.04 %', '00101'), ('7.71 %', '10000'), ('7.61 %', '01111'), ('7.22 %', '00000'), ('5.95 %', '01100'), ('5.14 %', '01001'), ('5.09 %', '00011'), ('4.58 %', '01101'), ('4.49 %', '10111'), ('4.44 %', '11110'), ('4.09 %', '10010'), ('3.55 %', '11011'), ('3.39 %', '01010'), ('2.63 %', '11010'), ('2.40 %', '11000'), ('1.58 %', '01000'), ('1.46 %', '00110'), ('1.40 %', '11101'), ('1.23 %', '10101'), ('0.84 %', '00100'), ('0.79 %', '01011'), ('0.70 %', '00010'), ('0.58 %', '00111'), ('0.52 %', '10011'), ('0.38 %', '10001'), ('0.35 %', '00001'), ('0.28 %', '11001'), ('0.27 %', '10100'), ('0.25 %', '01110'), ('0.24 %', '11100'), ('0.13 %', '10110')]\n",
      "The best solution is: 11111\n",
      "----------\n"
     ]
    },
    {
     "data": {
      "text/plain": [
       "Text(0, 0.5, 'Ground energy')"
      ]
     },
     "execution_count": 7,
     "metadata": {},
     "output_type": "execute_result"
    },
    {
     "data": {
      "image/png": "[encoded data removed]",
      "text/plain": [
       "<Figure size 640x480 with 1 Axes>"
      ]
     },
     "metadata": {},
     "output_type": "display_data"
    }
   ],
   "source": [
    "import matplotlib.pyplot as plt\n",
    "nqubits = len(doses)\n",
    "\n",
    "hamiltonian = build_cost_hamiltonian(doses, dose_rates, depths)\n",
    "mixer_hamiltonian = build_mixer_hamiltonian(nqubits=len(doses))\n",
    "\n",
    "# create QAOA model given the Hamiltonians\n",
    "qaoa = models.QAOA(hamiltonian=hamiltonian, mixer=mixer_hamiltonian)\n",
    "\n",
    "method = \"COBYLA\"\n",
    "    \n",
    "ground_energy = []\n",
    "ground_state = []\n",
    "for n_layers in range(1,10):\n",
    "    initial_parameters =  0.01 *  (2 * np.random.random(n_layers * 2) - 1) * np.pi\n",
    "    best_energy, final_parameters, _ = qaoa.minimize(initial_parameters, method=method)\n",
    "    #print(\"initial_parameters\",initial_parameters)\n",
    "    #print(\"best energy: \", best_energy)\n",
    "    ground_energy.append(best_energy)\n",
    "    \n",
    "    qaoa.set_parameters(final_parameters)\n",
    "    quantum_state = qaoa.execute(None)\n",
    "\n",
    "    probabilities = (np.abs(quantum_state) ** 2)\n",
    "    probabilities = zip(probabilities, [i for i in range(len(probabilities))])\n",
    "    probabilities = sorted(probabilities, key=lambda x: x[0], reverse=True)\n",
    "    probabilities = [(\"{:.2f} %\".format(round(p*100, 4)), \"{0:0{bits}b}\".format(s, bits=nqubits)) for p, s in probabilities]\n",
    "    print(probabilities)\n",
    "    qaoa_solution = probabilities[0][1]\n",
    "    print(\"The best solution is:\", qaoa_solution )\n",
    "    print(\"-\"*10)\n",
    "\n",
    "plt.plot(ground_energy)\n",
    "plt.xlabel('Number of layers')\n",
    "plt.ylabel('Ground energy')"
   ]
  },
  {
   "cell_type": "code",
   "execution_count": 8,
   "id": "c6739362",
   "metadata": {},
   "outputs": [],
   "source": [
    "def beam_cost(i, doses, dose_rates, depths,\n",
    "              alpha=1.0, beta=10.0, \n",
    "              lambda_depth=0.5, session_cost_flash=20,\n",
    "              flash_threshold=40, depth_limit=12,\n",
    "              flash_incompatibility_penalty=5000,\n",
    "              ntcp_gain_threshold=0.1,\n",
    "              artificial_nonflash_rate=1):\n",
    "    \"\"\"\n",
    "    Calculates the full cost of using beam i,\n",
    "    and compares NTCP between FLASH and non-FLASH delivery.\n",
    "    \"\"\"\n",
    "    dose = doses[i]\n",
    "    dose_rate = dose_rates[i]\n",
    "    depth = depths[i]\n",
    "    \n",
    "    tcp = TCP(dose)\n",
    "    ntcp_flash = NTCP(dose, dose_rate)  # FLASH case (real rate)\n",
    "    ntcp_nonflash = NTCP(dose, artificial_nonflash_rate)  # simulate conventional\n",
    "    \n",
    "    ntcp_gain = ntcp_nonflash - ntcp_flash  # how much normal tissue saved\n",
    "\n",
    "    return tcp, ntcp_flash, ntcp_nonflash, ntcp_gain\n"
   ]
  },
  {
   "cell_type": "code",
   "execution_count": 9,
   "id": "6f08b9d0",
   "metadata": {},
   "outputs": [
    {
     "name": "stdout",
     "output_type": "stream",
     "text": [
      "   TCP = 0.007\n",
      "   NTCP (FLASH) = 25.375\n",
      "   NTCP (Conventional) = 7.875\n",
      "   NTCP Gain = -17.500\n",
      "\n",
      "   TCP = 0.018\n",
      "   NTCP (FLASH) = 0.722\n",
      "   NTCP (Conventional) = 10.500\n",
      "   NTCP Gain = 9.778\n",
      "\n",
      "   TCP = 0.047\n",
      "   NTCP (FLASH) = 0.875\n",
      "   NTCP (Conventional) = 13.125\n",
      "   NTCP Gain = 12.250\n",
      "\n",
      "   TCP = 0.119\n",
      "   NTCP (FLASH) = 0.938\n",
      "   NTCP (Conventional) = 15.750\n",
      "   NTCP Gain = 14.812\n",
      "\n",
      "   TCP = 0.269\n",
      "   NTCP (FLASH) = 59.208\n",
      "   NTCP (Conventional) = 18.375\n",
      "   NTCP Gain = -40.833\n",
      "\n"
     ]
    }
   ],
   "source": [
    "doses = [15, 20, 25, 30, 35]          # Gy\n",
    "dose_rates = [0.3, 45, 50, 80, 0.3]    # Gy/s (only beams 1, 2, 3 are FLASH!)\n",
    "depths = [3, 4, 5, 6, 7]              # cm (all shallow <12 cm)\n",
    "\n",
    "\n",
    "for i in range(len(doses)):\n",
    "    tcp, ntcp_flash, ntcp_nonflash, ntcp_gain = beam_cost(i, doses, dose_rates, depths)\n",
    "    print(f\"   TCP = {tcp:.3f}\")\n",
    "    print(f\"   NTCP (FLASH) = {ntcp_flash:.3f}\")\n",
    "    print(f\"   NTCP (Conventional) = {ntcp_nonflash:.3f}\")\n",
    "    print(f\"   NTCP Gain = {ntcp_gain:.3f}\")\n",
    "    print(\"\")\n"
   ]
  }
 ],
 "metadata": {
  "kernelspec": {
   "display_name": "pennylane",
   "language": "python",
   "name": "python3"
  },
  "language_info": {
   "codemirror_mode": {
    "name": "ipython",
    "version": 3
   },
   "file_extension": ".py",
   "mimetype": "text/x-python",
   "name": "python",
   "nbconvert_exporter": "python",
   "pygments_lexer": "ipython3",
   "version": "3.12.5"
  }
 },
 "nbformat": 4,
 "nbformat_minor": 5
}
